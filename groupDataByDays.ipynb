{
 "cells": [
  {
   "cell_type": "code",
   "execution_count": 1,
   "id": "49fdca79",
   "metadata": {},
   "outputs": [],
   "source": [
    "from AlgoTools import AlgoTools"
   ]
  },
  {
   "cell_type": "code",
   "execution_count": 2,
   "id": "f50192ca",
   "metadata": {},
   "outputs": [],
   "source": [
    "import pandas as pd\n",
    "import time\n",
    "import datetime\n",
    "import pickle"
   ]
  },
  {
   "cell_type": "code",
   "execution_count": 3,
   "id": "7cafb3e9",
   "metadata": {},
   "outputs": [],
   "source": [
    "with open('spydf.pickle', 'rb') as f:\n",
    "    df = pickle.load(f)\n"
   ]
  },
  {
   "cell_type": "code",
   "execution_count": 56,
   "id": "db5171ee",
   "metadata": {},
   "outputs": [
    {
     "data": {
      "text/plain": [
       "13802502"
      ]
     },
     "execution_count": 56,
     "metadata": {},
     "output_type": "execute_result"
    }
   ],
   "source": [
    "len(df)"
   ]
  },
  {
   "cell_type": "code",
   "execution_count": 62,
   "id": "c1e38a26",
   "metadata": {},
   "outputs": [],
   "source": [
    "groupedByDays=[]"
   ]
  },
  {
   "cell_type": "code",
   "execution_count": 63,
   "id": "3b7f2c5e",
   "metadata": {},
   "outputs": [],
   "source": [
    "indexLastDay=0"
   ]
  },
  {
   "cell_type": "code",
   "execution_count": 77,
   "id": "747b620d",
   "metadata": {},
   "outputs": [],
   "source": [
    "for i in range(1,len(df)):\n",
    "    if algo.checkNextDay(i):\n",
    "        groupedByDays.append(df.iloc[indexLastDay:i,:])\n",
    "        indexLastDay = i"
   ]
  },
  {
   "cell_type": "code",
   "execution_count": 79,
   "id": "34faad1c",
   "metadata": {},
   "outputs": [
    {
     "data": {
      "text/plain": [
       "5982"
      ]
     },
     "execution_count": 79,
     "metadata": {},
     "output_type": "execute_result"
    }
   ],
   "source": [
    "len(groupedByDays)"
   ]
  },
  {
   "cell_type": "code",
   "execution_count": 80,
   "id": "f95b0825",
   "metadata": {},
   "outputs": [],
   "source": [
    "with open('SP-groupedByDays.pkl', 'wb') as f:\n",
    "    pickle.dump(groupedByDays, f)"
   ]
  },
  {
   "cell_type": "code",
   "execution_count": 81,
   "id": "30716eae",
   "metadata": {},
   "outputs": [],
   "source": [
    "with open('SP-groupedByDays.pkl', 'rb') as f:\n",
    "    mynewlist = pickle.load(f)"
   ]
  }
 ],
 "metadata": {
  "kernelspec": {
   "display_name": "Python 3 (ipykernel)",
   "language": "python",
   "name": "python3"
  },
  "language_info": {
   "codemirror_mode": {
    "name": "ipython",
    "version": 3
   },
   "file_extension": ".py",
   "mimetype": "text/x-python",
   "name": "python",
   "nbconvert_exporter": "python",
   "pygments_lexer": "ipython3",
   "version": "3.11.5"
  }
 },
 "nbformat": 4,
 "nbformat_minor": 5
}
