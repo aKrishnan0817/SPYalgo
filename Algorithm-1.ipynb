{
 "cells": [
  {
   "cell_type": "code",
   "execution_count": 1,
   "id": "6d56f365",
   "metadata": {},
   "outputs": [],
   "source": [
    "from AlgoTools import AlgoTools\n",
    "from Trader import Trader\n",
    "import pandas as pd\n",
    "import time\n",
    "import datetime\n",
    "import pickle\n",
    "import numpy as np"
   ]
  },
  {
   "cell_type": "markdown",
   "id": "28078712",
   "metadata": {},
   "source": [
    "# Processing the data\n",
    "- The data has already been grouped into days and converted to date time objects\n",
    "- Objective is to shuffle the days, then create a train-test split as I will be training on indivuals days"
   ]
  },
  {
   "cell_type": "code",
   "execution_count": 125,
   "id": "5653c907",
   "metadata": {},
   "outputs": [],
   "source": [
    "with open('SP-groupedByDays.pkl', 'rb') as f:\n",
    "    spDaily = pickle.load(f)"
   ]
  },
  {
   "cell_type": "code",
   "execution_count": 126,
   "id": "fdc7f671",
   "metadata": {},
   "outputs": [],
   "source": [
    "with open('spydf.pickle', 'rb') as f:\n",
    "    tickData = pickle.load(f)"
   ]
  },
  {
   "cell_type": "code",
   "execution_count": 127,
   "id": "b31984a2",
   "metadata": {},
   "outputs": [],
   "source": [
    "import random\n",
    "random.shuffle(spDaily)"
   ]
  },
  {
   "cell_type": "code",
   "execution_count": 128,
   "id": "05af7d80",
   "metadata": {},
   "outputs": [],
   "source": [
    "trainLen = int(len(spDaily)*0.75)"
   ]
  },
  {
   "cell_type": "code",
   "execution_count": 129,
   "id": "23b73575",
   "metadata": {},
   "outputs": [],
   "source": [
    "trainData=spDaily[:trainLen]\n",
    "testData=spDaily[trainLen:]"
   ]
  },
  {
   "cell_type": "code",
   "execution_count": 130,
   "id": "d8ecfd2c",
   "metadata": {},
   "outputs": [],
   "source": [
    "tempData=spDaily[:10]"
   ]
  },
  {
   "cell_type": "markdown",
   "id": "b1b81cd4",
   "metadata": {},
   "source": [
    "# Creating the Algorithim"
   ]
  },
  {
   "cell_type": "code",
   "execution_count": 131,
   "id": "cd6dda11",
   "metadata": {},
   "outputs": [],
   "source": [
    "algoTools = AlgoTools(tickData)"
   ]
  },
  {
   "cell_type": "code",
   "execution_count": 132,
   "id": "7fcd80d7",
   "metadata": {},
   "outputs": [],
   "source": [
    "def Algo(params):\n",
    "    data = trainData\n",
    "    r, a_L, a_S, E_e, stopProf, stopLoss = params\n",
    "    trader = Trader()\n",
    "    #for each day in the data\n",
    "    for d in range(len(data)):\n",
    "        #for each time stamp in the day\n",
    "        index = 1\n",
    "        \n",
    "        for t in range(data[d].index[2] , data[d].index[len(data[d])-1]):\n",
    "            index = index + 1\n",
    "            \n",
    "            #close out because market is closing                \n",
    "            ti = tickData.loc[t,\"Time2\"].hour*100 + tickData.loc[t,\"Time2\"].minute\n",
    "            if (1513<ti<1520 or 2330<ti<2359):\n",
    "                if trader.getLastTradePos() != 0:\n",
    "                    trader.closeOut(data[d].iloc[index,:])\n",
    "                continue\n",
    "            \n",
    "            \n",
    "\n",
    "\n",
    "            \n",
    "            #if the acceleration is greater than or equal to acceleration constant Long\n",
    "            if (algoTools.getAccel(t) >= a_L or algoTools.getRate(t) >= r) and trader.getLastTradePos() == 0:\n",
    "                trader.goLong(data[d].iloc[index,:])\n",
    "                continue\n",
    "            \n",
    "            #same as previous statment but for shorting\n",
    "            if  ( algoTools.getAccel(t) <= a_S or algoTools.getRate(t) <= -r ) and trader.getLastTradePos() == 0:\n",
    "                trader.goShort(data[d].iloc[index,:])\n",
    "                continue\n",
    "            \n",
    "            \n",
    "            \n",
    "            \n",
    "           \n",
    "            \n",
    "            #-----Closing Conditions------\n",
    "            \n",
    "            \n",
    "            #as per calclus reasoing if the first deravitive is = 0 it has found a local extrema. therfore close out \n",
    "            #E_e is error of extrema\n",
    "            if algoTools.getRate(t) <= E_e and trader.getLastTradePos() != 0:\n",
    "                trader.closeOut(data[d].iloc[index,:])\n",
    "                continue\n",
    "               \n",
    "            \n",
    "            #stop profit (in points)\n",
    "            if (trader.getLastTradePos() == 1 and data[d].loc[t,\"price\"] - trader.getLastTradePrice() >= stopProf ) or (trader.getLastTradePos() == -1 and trader.getLastTradePrice() - data[d].loc[t,\"price\"] >= stopProf):\n",
    "                trader.closeOut(data[d].iloc[index,:])\n",
    "                continue\n",
    "            \n",
    "            #stop loss (in points)\n",
    "            if (trader.getLastTradePos() == 1 and data[d].loc[t,\"price\"] - trader.getLastTradePrice() <= stopLoss) or (trader.getLastTradePos() == -1 and trader.getLastTradePrice() - data[d].loc[t,\"price\"] <= stopLoss ):\n",
    "                trader.closeOut(data[d].iloc[index,:])\n",
    "                continue\n",
    "                \n",
    "            \n",
    "            \n",
    "                \n",
    "            \n",
    "    return trader"
   ]
  },
  {
   "cell_type": "code",
   "execution_count": 133,
   "id": "4d645634",
   "metadata": {},
   "outputs": [],
   "source": [
    "trader = Algo([1,0.5,-0.5,0.01,2,0.5])"
   ]
  },
  {
   "cell_type": "code",
   "execution_count": 134,
   "id": "5bbd64fd",
   "metadata": {},
   "outputs": [
    {
     "data": {
      "text/plain": [
       "{'Total Return': 225529.99999999529,\n",
       " 'Max Return': 364.9999999999977,\n",
       " 'Min Return': -18055.000000000007}"
      ]
     },
     "execution_count": 134,
     "metadata": {},
     "output_type": "execute_result"
    }
   ],
   "source": [
    "trader.getTradeInfo()"
   ]
  },
  {
   "cell_type": "code",
   "execution_count": 135,
   "id": "e3578b85",
   "metadata": {},
   "outputs": [
    {
     "data": {
      "text/plain": [
       "0    0.396819\n",
       "dtype: float64"
      ]
     },
     "execution_count": 135,
     "metadata": {},
     "output_type": "execute_result"
    }
   ],
   "source": [
    "trader.getLR()"
   ]
  },
  {
   "cell_type": "code",
   "execution_count": null,
   "id": "04dbbbe7",
   "metadata": {},
   "outputs": [],
   "source": [
    "from scipy.optimize import minimize\n",
    "\n",
    "\n",
    "\n",
    "# Initial guess for the parameters\n",
    "initial_guess = [1,0.5,-0.5,0.01,2,0.5]\n",
    "\n",
    "# Perform the minimization\n",
    "result = minimize(Algo, initial_guess)\n",
    "\n",
    "# Output the result\n",
    "print(\"Optimized parameters:\", result.x)\n",
    "print(\"Function value at optimized parameters:\", result.fun)"
   ]
  },
  {
   "cell_type": "code",
   "execution_count": null,
   "id": "55674498",
   "metadata": {},
   "outputs": [],
   "source": []
  }
 ],
 "metadata": {
  "kernelspec": {
   "display_name": "Python 3 (ipykernel)",
   "language": "python",
   "name": "python3"
  },
  "language_info": {
   "codemirror_mode": {
    "name": "ipython",
    "version": 3
   },
   "file_extension": ".py",
   "mimetype": "text/x-python",
   "name": "python",
   "nbconvert_exporter": "python",
   "pygments_lexer": "ipython3",
   "version": "3.11.5"
  }
 },
 "nbformat": 4,
 "nbformat_minor": 5
}
