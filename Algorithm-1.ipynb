{
 "cells": [
  {
   "cell_type": "code",
   "execution_count": 1,
   "id": "4697de10",
   "metadata": {},
   "outputs": [],
   "source": [
    "from AlgoTools import AlgoTools\n",
    "from Trader import Trader\n",
    "import pandas as pd\n",
    "import time\n",
    "import datetime\n",
    "import pickle\n",
    "import numpy as np"
   ]
  },
  {
   "cell_type": "markdown",
   "id": "f82cb141",
   "metadata": {},
   "source": [
    "# Processing the data\n",
    "- The data has already been grouped into days and converted to date time objects\n",
    "- Objective is to shuffle the days, then create a train-test split as I will be training on indivuals days"
   ]
  },
  {
   "cell_type": "code",
   "execution_count": 2,
   "id": "b5d1ac69",
   "metadata": {},
   "outputs": [],
   "source": [
    "with open('SP-groupedByDays.pkl', 'rb') as f:\n",
    "    spDaily = pickle.load(f)"
   ]
  },
  {
   "cell_type": "code",
   "execution_count": 3,
   "id": "4c1da461",
   "metadata": {},
   "outputs": [],
   "source": [
    "with open('spydf.pickle', 'rb') as f:\n",
    "    tickData = pickle.load(f)"
   ]
  },
  {
   "cell_type": "code",
   "execution_count": 4,
   "id": "37bbd5a4",
   "metadata": {},
   "outputs": [],
   "source": [
    "import random\n",
    "random.shuffle(spDaily)"
   ]
  },
  {
   "cell_type": "code",
   "execution_count": 5,
   "id": "837268ea",
   "metadata": {},
   "outputs": [],
   "source": [
    "trainLen = int(len(spDaily)*0.75)"
   ]
  },
  {
   "cell_type": "code",
   "execution_count": 6,
   "id": "875a6ed9",
   "metadata": {},
   "outputs": [],
   "source": [
    "trainData=spDaily[:trainLen]\n",
    "testData=spDaily[trainLen:]"
   ]
  },
  {
   "cell_type": "code",
   "execution_count": 7,
   "id": "741bacaf",
   "metadata": {},
   "outputs": [],
   "source": [
    "tempData=spDaily[:1]"
   ]
  },
  {
   "cell_type": "markdown",
   "id": "df490275",
   "metadata": {},
   "source": [
    "# Creating the Algorithim"
   ]
  },
  {
   "cell_type": "code",
   "execution_count": 8,
   "id": "76e226bf",
   "metadata": {},
   "outputs": [],
   "source": [
    "algoTools = AlgoTools(tickData)"
   ]
  },
  {
   "cell_type": "code",
   "execution_count": 9,
   "id": "7bdbcb36",
   "metadata": {},
   "outputs": [],
   "source": [
    "def Algo(data,r, a_L, a_S, E_e, stopProf, stopLoss):\n",
    "    trader = Trader()\n",
    "    \n",
    "    #for each day in the data\n",
    "    for d in range(len(data)):\n",
    "        #for each time stamp in the day\n",
    "        index = 1\n",
    "        print(\"Day\",d)\n",
    "        for t in range(data[d].index[2] , data[d].index[len(data[d])-1]):\n",
    "            index = index + 1\n",
    "            \n",
    "            #close out because market is closing                \n",
    "            ti = tickData.loc[t,\"Time2\"].hour*100 + tickData.loc[t,\"Time2\"].minute\n",
    "            if (1513<ti<1520 or 2354<ti<2359):\n",
    "                if trader.getLastTradePos() != 0:\n",
    "                    trader.closeOut(data[d].iloc[index,:])\n",
    "                continue\n",
    "            \n",
    "            \n",
    "\n",
    "\n",
    "            \n",
    "            #if the acceleration is greater than or equal to acceleration constant Long\n",
    "            if (algoTools.getAccel(t) >= a_L or algoTools.getRate(t) <= r) and trader.getLastTradePos() == 0:\n",
    "                trader.goLong(data[d].iloc[index,:])\n",
    "                continue\n",
    "            \n",
    "            #same as previous statment but for shorting\n",
    "            if  ( algoTools.getAccel(t) <= a_S or algoTools.getRate(t) <= r ) and trader.getLastTradePos() == 0:\n",
    "                trader.goShort(data[d].iloc[index,:])\n",
    "                continue\n",
    "            \n",
    "            \n",
    "            \n",
    "            \n",
    "           \n",
    "            \n",
    "            #-----Closing Conditions------\n",
    "            \n",
    "            \n",
    "            #as per calclus reasoing if the first deravitive is = 0 it has found a local extrema. therfore close out \n",
    "            #E_e is error of extrema\n",
    "            if algoTools.getRate(t) <= E_e and trader.getLastTradePos() != 0:\n",
    "                trader.closeOut(data[d].iloc[index,:])\n",
    "                continue\n",
    "               \n",
    "            \n",
    "            #stop profit (in points)\n",
    "            if (trader.getLastTradePos() == 1 and data[d].loc[t,\"price\"] - trader.getLastTradePrice() >= stopProf ) or (trader.getLastTradePos() == -1 and trader.getLastTradePrice() - data[d].loc[t,\"price\"] >= stopProf):\n",
    "                trader.closeOut(data[d].iloc[index,:])\n",
    "                continue\n",
    "            \n",
    "            #stop loss (in points)\n",
    "            if (trader.getLastTradePos() == 1 and data[d].loc[t,\"price\"] - trader.getLastTradePrice() <= stopLoss) or (trader.getLastTradePos() == -1 and trader.getLastTradePrice() - data[d].loc[t,\"price\"] <= stopLoss ):\n",
    "                trader.closeOut(data[d].iloc[index,:])\n",
    "                continue\n",
    "                \n",
    "            \n",
    "            \n",
    "                \n",
    "            \n",
    "    return trader"
   ]
  },
  {
   "cell_type": "code",
   "execution_count": 10,
   "id": "1995e438",
   "metadata": {},
   "outputs": [
    {
     "name": "stdout",
     "output_type": "stream",
     "text": [
      "Day 0\n"
     ]
    }
   ],
   "source": [
    "trader = Algo(tempData,0.3, 0.6, -0.5, 0.03 ,0.5, -0.05)"
   ]
  },
  {
   "cell_type": "code",
   "execution_count": 11,
   "id": "62c202aa",
   "metadata": {},
   "outputs": [
    {
     "data": {
      "text/plain": [
       "0    0.487941\n",
       "dtype: float64"
      ]
     },
     "execution_count": 11,
     "metadata": {},
     "output_type": "execute_result"
    }
   ],
   "source": [
    "trader.getLR()"
   ]
  },
  {
   "cell_type": "code",
   "execution_count": 12,
   "id": "c1c5e83f",
   "metadata": {},
   "outputs": [
    {
     "data": {
      "text/plain": [
       "{'Total Return': 255.00000000006366,\n",
       " 'Max Return': 29.999999999995453,\n",
       " 'Min Return': -20.000000000004547}"
      ]
     },
     "execution_count": 12,
     "metadata": {},
     "output_type": "execute_result"
    }
   ],
   "source": [
    "trader.getTradeInfo()"
   ]
  },
  {
   "cell_type": "code",
   "execution_count": null,
   "id": "949f52a5",
   "metadata": {},
   "outputs": [],
   "source": []
  }
 ],
 "metadata": {
  "kernelspec": {
   "display_name": "Python 3 (ipykernel)",
   "language": "python",
   "name": "python3"
  },
  "language_info": {
   "codemirror_mode": {
    "name": "ipython",
    "version": 3
   },
   "file_extension": ".py",
   "mimetype": "text/x-python",
   "name": "python",
   "nbconvert_exporter": "python",
   "pygments_lexer": "ipython3",
   "version": "3.11.5"
  }
 },
 "nbformat": 4,
 "nbformat_minor": 5
}
